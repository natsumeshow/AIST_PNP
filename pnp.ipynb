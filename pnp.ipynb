{
 "cells": [
  {
   "cell_type": "code",
   "execution_count": 2,
   "metadata": {},
   "outputs": [],
   "source": [
    "# 本コードは神山・鈴木(産総研)作のコードをベースに一部変更・改良したもの。\n",
    "# This code is based on the code written by Kouyama and Suzuki (AIST) and its modification."
   ]
  },
  {
   "cell_type": "code",
   "execution_count": 3,
   "metadata": {},
   "outputs": [],
   "source": [
    "import numpy as np\n",
    "from matplotlib import pyplot as plt \n",
    "import pandas as pd\n",
    "import struct\n",
    "%matplotlib inline"
   ]
  },
  {
   "cell_type": "code",
   "execution_count": 4,
   "metadata": {},
   "outputs": [],
   "source": [
    "def readXYZ(fname,model_us,model_vs,n_len):\n",
    "    array=np.zeros((7,768,1024))\n",
    "    nn=7*1024*768\n",
    "    f=open(fname,\"rb\")\n",
    "    Datas=f.read(nn*4)\n",
    "    f.close\n",
    "    unpack_data=(struct.unpack('<{}f'.format(nn),Datas))\n",
    "#    print(array.shape)\n",
    "    pp=0\n",
    "    i=0\n",
    "    for kk in range(7):\n",
    "        for ii in range(768):\n",
    "            for jj in range(1024):\n",
    "                array[kk,ii,jj]=unpack_data[pp]\n",
    "                pp+=1\n",
    "    xs=np.zeros(n_len)\n",
    "    ys=np.zeros(n_len)\n",
    "    zs=np.zeros(n_len)\n",
    "\n",
    "    for ii in range(n_len):\n",
    "        x0=int(model_us[ii])\n",
    "        y0=int(model_vs[ii])\n",
    "        #x0=int(u0*2)\n",
    "        #y0=int(v0*1.5)\n",
    "        dis=array[3,y0-1:y0+2,x0-1:x0+2]\n",
    "        dis_max=np.unravel_index(np.argmax(dis), dis.shape)\n",
    "        #print(dis , dis_max) \n",
    "        shift=np.array(dis_max)-1\n",
    "        y0+=shift[0]\n",
    "        x0+=shift[1]\n",
    "        xs[ii]=array[0,y0,x0]\n",
    "        ys[ii]=array[1,y0,x0]\n",
    "        zs[ii]=array[2,y0,x0]\n",
    "        if array[3,y0,x0] != 0.:\n",
    "            array[4,y0-5:y0+5,x0-5:x0+5]=1000\n",
    "            \n",
    "    im=np.stack([array[6],array[5],array[4]],axis=2)/4.\n",
    "    \n",
    "    imgplot = plt.imshow(im)\n",
    "    cv2.imwrite('test.png',im)\n",
    "    #cv2.imwrite(fname.split('.')[0]+'.png',im)\n",
    "    \n",
    "    #print(\"kokokara\")\n",
    "    #print(fname.split('.')[0])\n",
    "    return xs,ys,zs\n",
    "#\n",
    "# カメラの対応点探索結果からカメラ位置を求める\n",
    "#\n",
    "\n",
    "import numpy as np\n",
    "import math\n",
    "import cv2\n",
    "## CSV ##\n",
    "import pandas as pd\n",
    "## Rotation\n",
    "from scipy.spatial.transform import Rotation\n",
    "\n",
    "def CalcPnP(n_len,im_x,im_y,xs,ys,zs,tmp_K, dist):\n",
    "    # 回転テスト\n",
    "    #theta = 15.*np.pi/180 # OpenCVの形式を意識\n",
    "    #im_x = np.cos(theta)*(im_x - cx) - np.sin(theta)*(im_y - cy) + cx\n",
    "    #im_y = np.sin(theta)*(im_x - cx) + np.cos(theta)*(im_y - cy) + cy\n",
    "    im_vec = np.zeros((n_len,2), np.float64)\n",
    "    im_vec[:,0] = im_x\n",
    "    im_vec[:,1] = im_y\n",
    "\n",
    "    # 各点の読み込み (left hand coordinate => right hand coordinate)\n",
    "    gcp_x = np.array(xs,dtype='float64')\n",
    "    gcp_y = -np.array(ys,dtype='float64') ## Y軸を反転させる\n",
    "    gcp_z = np.array(zs,dtype='float64')\n",
    "\n",
    "    X_earth = np.zeros((n_len,3), np.float64)\n",
    "    X_earth_ground = np.zeros((n_len,3), np.float64)\n",
    "\n",
    "    X_earth[:,0] = gcp_x\n",
    "    X_earth[:,1] = gcp_y\n",
    "    X_earth[:,2] = gcp_z\n",
    "\n",
    "    # 平均位置を調べる\n",
    "    im_x_mean = np.mean(im_x)\n",
    "    im_y_mean = np.mean(im_y)\n",
    "\n",
    "    gcp_x_mean = np.mean(gcp_x)\n",
    "    gcp_y_mean = np.mean(gcp_y)\n",
    "    gcp_z_mean = np.mean(gcp_z)\n",
    "\n",
    "    X_earth_mean = np.zeros((3), np.float64)\n",
    "    X_earth_mean_ground = np.zeros((3), np.float64)\n",
    "    X_earth_mean[0] = gcp_x_mean\n",
    "    X_earth_mean[1] = gcp_y_mean\n",
    "    X_earth_mean[2] = gcp_z_mean\n",
    "\n",
    "    #print('Number of measured points: ', n_len)\n",
    "    #print('Mean position in image: ')\n",
    "    #print(' ', im_x_mean, im_y_mean)\n",
    "\n",
    "    print('Mean position in world coordinate: ')\n",
    "    print(' ', gcp_x_mean, gcp_y_mean, gcp_z_mean)\n",
    "\n",
    "    #\n",
    "    # solve PNP\n",
    "    #\n",
    "    # 結果をわかりやすくするため + 計算の安定のため原点をサンプルの平均位置にする\n",
    "    X_earth -= X_earth_mean\n",
    "    \n",
    "    \n",
    "    ret, rvec, tvec = cv2.solvePnP(X_earth, im_vec, tmp_K, dist, flags = cv2.SOLVEPNP_ITERATIVE)\n",
    "    #ret, rvec, tvec,inliers = cv2.solvePnPRansac(X_earth, im_vec, tmp_K, dist)\n",
    "    #rvec, tvec =cv2.solvePnPRefineVVS(X_earth, im_vec, tmp_K, dist, rvec, tvec)\n",
    "\n",
    "    # Reprojection Error\n",
    "    imgpts, jac = cv2.projectPoints(X_earth, rvec, tvec, tmp_K, dist)\n",
    "    #print(\"im_vec         imgpts\" )\n",
    "    #print( im_vec,  imgpts)\n",
    "    #print( im_vec , imgpts)\n",
    "    np.save(\"./test_imgpts\" , imgpts)\n",
    "    RE = np.abs(imgpts[:,0] - im_vec)\n",
    "\n",
    "    #np.save(\"./re_mse\" ,RE.mean())\n",
    "    #df = pd.read_csv(\"3412_2.csv\")\n",
    "    #df[\"mse\"] = 0.0\n",
    "    #for i , v in enumerate(RE):\n",
    "     #   df[\"mse\"][i] = np.mean(RE[i])\n",
    "    #df.to_csv(\"mse.csv\")\n",
    "    #RE = RE[RE.max(1) < threshold]\n",
    "    #test = np.where[RE[:,0] <10]\n",
    "    print(\"Reprojection error mean stddev:\")\n",
    "    print(np.mean(RE),np.std(imgpts[:,0]-im_vec))\n",
    "    #print(\"max pixel : \" , np.max(np.abs(imgpts[:,0]-im_vec)) , np.argmax(np.abs(imgpts[:,0]-im_vec)))\n",
    "    #print(len(RE))\n",
    "    #print(np.abs(imgpts[:,0]-im_vec))\n",
    "    # Rotation matrix from Rotatin vector\n",
    "    # PnPsolver provides World (local) to Camera rotation matrix\n",
    "    rotM = cv2.Rodrigues(rvec)[0]\n",
    "\n",
    "    # inverse Rotaion matrix\n",
    "    # Camera to world\n",
    "    i_rotM = np.linalg.inv(rotM)\n",
    "    i_rvec = cv2.Rodrigues(i_rotM)[0]\n",
    "\n",
    "    # for debug\n",
    "    tf = ret\n",
    "\n",
    "    # Rotvec to Euler\n",
    "    rotR = Rotation.from_rotvec(i_rvec.reshape(3))\n",
    "    rotE = rotR.as_euler('zxy',degrees=True)\n",
    "    #rotE = rotR.as_euler('ZXY',degrees=True)\n",
    "\n",
    "    #print('Rotation angle, Z->X->Y, in Righthand coordinate:')\n",
    "    #print(rotE)\n",
    "\n",
    "    ## Convert left hand rotation / assuming World & Local coordinate rotation\n",
    "    ## The order of the vector rotE is same as the Rotation order (zxy)\n",
    "    ## ThetaZ => -ThetaZ, ThetaX => -ThetaX, ThetaY => ThetaY\n",
    "    l_rotE = np.zeros(3)\n",
    "    l_rotE[0]= -rotE[0]\n",
    "    l_rotE[1]= -rotE[1]\n",
    "    l_rotE[2]= rotE[2] #+ 180\n",
    "\n",
    "    print('Rotation angle in Unity interface:')\n",
    "    print(\"[X, Y, Z]: \" , l_rotE[1],l_rotE[2],l_rotE[0])\n",
    "    ## 13.7, 152.9, 1.4\n",
    "    \n",
    "    # カメラ位置の地球の座標系での表現 (逆行列をかけて符号を逆にする操作で変換できる)\n",
    "    r_tvec = -np.dot(i_rotM, tvec)\n",
    "    camera_pos = r_tvec[:,0] + X_earth_mean\n",
    "\n",
    "    #print('')\n",
    "    print('camera pos in Earth coordinate in Righthand coordinate: ')\n",
    "    print(' ', camera_pos[0], camera_pos[1], camera_pos[2])\n",
    "    \n",
    "#    print('rvec: ',rvec[:,0])\n",
    "#    print('tvec: ',tvec[:,0]+ X_earth_mean)\n",
    "def make_tmpmat(x_pix,y_pix,FOV):\n",
    "        # カメラ配列, チェッカーパターンの解析から  行。列の順番に注意\n",
    "    #fy=(y_pix/2.)*np.tan((90.-FOV/2.)*(np.pi/180.))/(y_pix/512.)\n",
    "    #fx=fy*(float(y_pix)/float(x_pix))\n",
    "    \n",
    "    fy = (y_pix/2)*np.tan((90. - FOV/2.)*(np.pi/180.)) #FOV 画角\n",
    "    fx = fy \n",
    "    cx = x_pix //2  #x_pix 画像の幅サイズ\n",
    "    cy = y_pix //2  #y_pix 画像の縦サイズ\n",
    "    \n",
    "    tmp_K = np.zeros((3,3),np.float64)\n",
    "    tmp_K[0,0]=fx\n",
    "    tmp_K[1,1]=fy\n",
    "    tmp_K[2,2]=1.0\n",
    "    tmp_K[0,2]=cx\n",
    "    tmp_K[1,2]=cy\n",
    "    \n",
    "    return tmp_K"
   ]
  },
  {
   "cell_type": "code",
   "execution_count": 5,
   "metadata": {},
   "outputs": [],
   "source": [
    "import pandas as pd"
   ]
  },
  {
   "cell_type": "code",
   "execution_count": 6,
   "metadata": {},
   "outputs": [
    {
     "data": {
      "text/plain": [
       "15"
      ]
     },
     "execution_count": 6,
     "metadata": {},
     "output_type": "execute_result"
    }
   ],
   "source": [
    "df = pd.read_csv(\"img_4044.csv\")\n",
    "#df = pd.read_csv(\"3412_2.csv\")\n",
    "len(df)"
   ]
  },
  {
   "cell_type": "code",
   "execution_count": 7,
   "metadata": {},
   "outputs": [
    {
     "data": {
      "text/plain": [
       "15"
      ]
     },
     "execution_count": 7,
     "metadata": {},
     "output_type": "execute_result"
    }
   ],
   "source": [
    "img_pixel = df[\"img_pixel\"]\n",
    "len(img_pixel)"
   ]
  },
  {
   "cell_type": "code",
   "execution_count": 8,
   "metadata": {},
   "outputs": [
    {
     "data": {
      "text/plain": [
       "(array([1068.,  768., 1427., 1461., 1679., 1750.,  521.,  224.,  592.,\n",
       "         203., 1293.,  409., 1311., 1433., 1012.]),\n",
       " array([575., 412., 464., 514., 468., 516., 566., 507., 343., 628., 248.,\n",
       "        323., 492., 242., 261.]))"
      ]
     },
     "execution_count": 8,
     "metadata": {},
     "output_type": "execute_result"
    }
   ],
   "source": [
    "img_x = np.array([])\n",
    "img_y = np.array([])\n",
    "flag = False\n",
    "for s in img_pixel: \n",
    "    t = 5\n",
    "    try :\n",
    "        img_x = np.append(img_x , (int(s[1:t]) ))\n",
    "        #img_x = np.append(img_x , (int(s[1:t]) *2 ))\n",
    "    except:\n",
    "        try:\n",
    "            t  = 4\n",
    "            img_x = np.append(img_x , (int(s[1:t])))\n",
    "            #img_x = np.append(img_x , (int(s[1:t]) *2))\n",
    "        except:\n",
    "            flag = True\n",
    "            t  = 3\n",
    "            img_x = np.append(img_x , (int(s[1:t])))\n",
    "            #img_x = np.append(img_x , (int(s[1:t]) *2 ))\n",
    "    if flag:\n",
    "        img_y = np.append(img_y , (int(s[t+2:-1])))\n",
    "        #img_y = np.append(img_y , (int(s[t+2:-1]) *2))\n",
    "    else:\n",
    "        img_y = np.append(img_y , (int(s[t+1:-1])))\n",
    "        #img_y = np.append(img_y , (int(s[t+1:-1]) *2))\n",
    "img_x,img_y"
   ]
  },
  {
   "cell_type": "code",
   "execution_count": 9,
   "metadata": {},
   "outputs": [
    {
     "data": {
      "text/plain": [
       "0     (504, 701)\n",
       "1     (394, 592)\n",
       "2     (718, 639)\n",
       "3     (731, 674)\n",
       "4     (858, 648)\n",
       "5     (893, 684)\n",
       "6     (222, 677)\n",
       "7     (103, 636)\n",
       "8     (336, 550)\n",
       "9      (48, 708)\n",
       "10    (706, 506)\n",
       "11    (265, 532)\n",
       "12    (657, 652)\n",
       "13    (777, 506)\n",
       "14    (568, 510)\n",
       "Name: model_pixel, dtype: object"
      ]
     },
     "execution_count": 9,
     "metadata": {},
     "output_type": "execute_result"
    }
   ],
   "source": [
    "model_pixel = df[\"model_pixel\"]\n",
    "#model_csv = pd.read_csv(\"/Users/xiaconghe/Desktop/AIST/test/model_3412_test.csv\")\n",
    "#model_pixel = model_csv[\"model_pixel\"]\n",
    "model_pixel"
   ]
  },
  {
   "cell_type": "code",
   "execution_count": 10,
   "metadata": {},
   "outputs": [
    {
     "name": "stdout",
     "output_type": "stream",
     "text": [
      "15\n"
     ]
    },
    {
     "data": {
      "text/plain": [
       "(array([504., 394., 718., 731., 858., 893., 222., 103., 336.,  48., 706.,\n",
       "        265., 657., 777., 568.]),\n",
       " array([701., 592., 639., 674., 648., 684., 677., 636., 550., 708., 506.,\n",
       "        532., 652., 506., 510.]))"
      ]
     },
     "execution_count": 10,
     "metadata": {},
     "output_type": "execute_result"
    }
   ],
   "source": [
    "model_x = np.array([])\n",
    "model_y = np.array([])\n",
    "flag = False\n",
    "for s in model_pixel: \n",
    "    t = 5\n",
    "    try :\n",
    "        model_x = np.append(model_x , (int(s[1:t])))\n",
    "    except:\n",
    "        try:\n",
    "            t  = 4\n",
    "            model_x = np.append(model_x , (int(s[1:t])))\n",
    "        except:\n",
    "            flag = True\n",
    "            t =3 \n",
    "            model_x = np.append(model_x , (int(s[1:t])))\n",
    "            \n",
    "    if flag:\n",
    "        model_y = np.append(model_y , (int(s[t+2:-1])))\n",
    "    else:\n",
    "        model_y = np.append(model_y , (int(s[t+1:-1])))\n",
    "    \n",
    "print(len(model_x))\n",
    "model_x , model_y"
   ]
  },
  {
   "cell_type": "code",
   "execution_count": 11,
   "metadata": {},
   "outputs": [
    {
     "name": "stderr",
     "output_type": "stream",
     "text": [
      "Clipping input data to the valid range for imshow with RGB data ([0..1] for floats or [0..255] for integers).\n"
     ]
    },
    {
     "name": "stdout",
     "output_type": "stream",
     "text": [
      " : model FOV_model  56\n",
      " using points : 15\n",
      "Mean position in world coordinate: \n",
      "  67.0186045328776 -24.2987543741862 165.81318054199218\n",
      "Reprojection error mean stddev:\n",
      "0.5265453928018625 0.6825011023061686\n",
      "Rotation angle in Unity interface:\n",
      "[X, Y, Z]:  0.08059738584148703 54.19721095909925 0.05992553289509904\n",
      "camera pos in Earth coordinate in Righthand coordinate: \n",
      "  46.9879336426451 -30.9828495192433 152.475468795962\n",
      "real 37.7\n",
      "Mean position in world coordinate: \n",
      "  67.0186045328776 -24.2987543741862 165.81318054199218\n",
      "Reprojection error mean stddev:\n",
      "2.036655692590521 2.910775784501189\n",
      "Rotation angle in Unity interface:\n",
      "[X, Y, Z]:  18.96004338501666 60.78406594870529 -0.3937251387813193\n",
      "camera pos in Earth coordinate in Righthand coordinate: \n",
      "  43.77578000999842 -30.571197857418433 154.31103528827677\n",
      "done!\n"
     ]
    },
    {
     "data": {
      "image/png": "[encoded data removed]",
      "text/plain": [
       "<Figure size 432x288 with 1 Axes>"
      ]
     },
     "metadata": {
      "needs_background": "light"
     },
     "output_type": "display_data"
    }
   ],
   "source": [
    "def main():\n",
    "    #print('=== Input ===')\n",
    "    #print('Camera array: ')\n",
    "    #print(tmp_K)\n",
    "    #print('Distortion parameters: ')\n",
    "    #print(dist)\n",
    "    #print('')\n",
    "    # Distortion parameters, チェッカーパターンの解析から\n",
    "#    dist =  np.array([ 0.25972578, -0.47507615,  0.00466432,  0.00113298, -0.06530443],dtype='float64')\n",
    "    dist=np.zeros(5)\n",
    "\n",
    "    #number='3412' \n",
    "    #6861_2 , FOV : model_ 60 , img_50 \n",
    "    #6861_3 , FOV : model_58 , img_50 \n",
    "    #6861_3 , FOV : model_58 , img_51 Ransac\n",
    "#    number='6933'\n",
    "#    mode='rank'  \n",
    "    #mode='top_10'\n",
    "    ## 対応点探索結果を読み込む\n",
    "    #model_input = pd.read_csv('C:/work/PnP/result/result/'+number+'/correspondence_Bt_'+mode+'.txt', sep=\",\",header=None)\n",
    "    \n",
    "    #model_input = pd.read_csv('/Users/xiaconghe/Desktop/AIST/PnP_Code/model.txt', sep=\",\",header=None)\n",
    "    n_len = len(model_x)\n",
    "    #fname=\"/Users/xiaconghe/Desktop/AIST/Unity_images/\"+number+\"_model_7d.dat\" \n",
    "    #fname=\"/Users/xiaconghe/Desktop/AIST/Unity_images/tukuba1_test.dat\"\n",
    "    fname=\"/Users/xiaconghe/Desktop/AIST/Unity_images/img_4044.dat\"\n",
    "    #fname=\"/Users/xiaconghe/Desktop/AIST/Unity_images/tsukuba_1_test.dat\"\n",
    "    FOV_model = 56\n",
    "    tmp_K_m = make_tmpmat(1024,768,FOV_model)  #x_pix,y_pix,Field Of View [deg]\n",
    "    \n",
    "    FOV_real =  37.7\n",
    "\n",
    "    tmp_K_r = make_tmpmat(1920 , 1080 , FOV_real)    \n",
    "\n",
    "    xs,ys,zs = readXYZ(fname,model_x ,model_y ,n_len)\n",
    "\n",
    "\n",
    "    n_len = len(xs)\n",
    "\n",
    "\n",
    "    print(' : model FOV_model ' , FOV_model )\n",
    "    print(\" using points :\" , len(model_x))\n",
    "    CalcPnP(n_len,model_x,model_y, xs , ys , zs , tmp_K_m, dist )\n",
    "\n",
    "    print('real' , FOV_real)\n",
    "    CalcPnP(n_len , img_x , img_y , xs , ys , zs , tmp_K_r, dist )\n",
    "        #CalcPnP(n_len,model_x,model_y, xs , ys , zs , tmp_K_m, dist )\n",
    "\n",
    "if __name__=='__main__':\n",
    "    main()\n",
    "    print(\"done!\")"
   ]
  }
 ],
 "metadata": {
  "kernelspec": {
   "display_name": "Python 3",
   "language": "python",
   "name": "python3"
  },
  "language_info": {
   "codemirror_mode": {
    "name": "ipython",
    "version": 3
   },
   "file_extension": ".py",
   "mimetype": "text/x-python",
   "name": "python",
   "nbconvert_exporter": "python",
   "pygments_lexer": "ipython3",
   "version": "3.7.3"
  }
 },
 "nbformat": 4,
 "nbformat_minor": 2
}
